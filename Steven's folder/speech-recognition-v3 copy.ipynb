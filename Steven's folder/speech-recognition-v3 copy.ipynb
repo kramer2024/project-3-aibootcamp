{
 "cells": [
  {
   "cell_type": "code",
   "execution_count": 1,
   "id": "70e086ec",
   "metadata": {},
   "outputs": [
    {
     "name": "stderr",
     "output_type": "stream",
     "text": [
      "/Users/stevenhill/Desktop/bootcamp/OSU-VIRT-AI-PT-02-2024-U-LOLC/Project-3/dev/lib/python3.10/site-packages/tqdm/auto.py:21: TqdmWarning: IProgress not found. Please update jupyter and ipywidgets. See https://ipywidgets.readthedocs.io/en/stable/user_install.html\n",
      "  from .autonotebook import tqdm as notebook_tqdm\n",
      "[nltk_data] Downloading package punkt to\n",
      "[nltk_data]     /Users/stevenhill/nltk_data...\n",
      "[nltk_data]   Package punkt is already up-to-date!\n"
     ]
    },
    {
     "data": {
      "text/plain": [
       "True"
      ]
     },
     "execution_count": 1,
     "metadata": {},
     "output_type": "execute_result"
    }
   ],
   "source": [
    "# import necessary libraries\n",
    "import speech_recognition as sr\n",
    "from gtts import gTTS\n",
    "import playsound\n",
    "import nltk\n",
    "from nltk.tokenize import word_tokenize\n",
    "import csv\n",
    "import os\n",
    "import gradio as gr\n",
    "\n",
    "# Download necessary NLTK data\n",
    "nltk.download('punkt')"
   ]
  },
  {
   "cell_type": "code",
   "execution_count": 2,
   "id": "5a4f4f36",
   "metadata": {},
   "outputs": [],
   "source": [
    "# Load inventory from CSV\n",
    "def load_inventory(file_path):\n",
    "    inventory = {}\n",
    "    with open(file_path, mode='r') as file:\n",
    "        reader = csv.DictReader(file)\n",
    "        for row in reader:\n",
    "            product = row[\"product\"]\n",
    "            inventory[product] = {\n",
    "                \"quantity\": int(row[\"quantity\"]),\n",
    "                \"volume\": row[\"volume\"],\n",
    "                \"price\": float(row[\"price\"])\n",
    "            }\n",
    "    return inventory\n",
    "\n",
    "# Update the file path to the resources folder\n",
    "csv_file_path = os.path.join('Resources', 'final_inventory.csv')\n",
    "inventory = load_inventory(csv_file_path)"
   ]
  },
  {
   "cell_type": "code",
   "execution_count": 3,
   "id": "631ce542",
   "metadata": {},
   "outputs": [],
   "source": [
    "# Create a function that will recognize when a person is speaking\n",
    "def listen(audio_file_path):\n",
    "    print(f\"Received audio file path: {audio_file_path}\")\n",
    "    recognizer = sr.Recognizer()\n",
    "    try:\n",
    "        with sr.AudioFile(audio_file_path) as source:\n",
    "            audio = recognizer.record(source)\n",
    "            text = recognizer.recognize_google(audio)\n",
    "            print(f\"Recognized text: {text}\")\n",
    "            return text\n",
    "    except sr.UnknownValueError:\n",
    "        print(\"Error: Could not understand the audio\")\n",
    "        return \"Sorry, I did not understand that.\"\n",
    "    except sr.RequestError:\n",
    "        print(\"Error: Could not request results from Google Speech Recognition service.\")\n",
    "        return \"Sorry, the service is down.\"\n",
    "    except AssertionError as e:\n",
    "        print(f\"AssertionError: {e}\")\n",
    "        return \"Sorry, the audio file is not valid.\"\n",
    "\n",
    "def speak(text):\n",
    "    if not text:\n",
    "        text = \"Sorry, I have nothing to say.\"\n",
    "    tts = gTTS(text=text, lang='en')\n",
    "    filename = \"response.mp3\"\n",
    "    tts.save(filename)\n",
    "    try:\n",
    "        playsound.playsound(filename)\n",
    "        print(f\"Playing sound: {filename}\")\n",
    "    except Exception as e:\n",
    "        print(f\"Error playing sound: {e}\")\n",
    "    return filename"
   ]
  },
  {
   "cell_type": "code",
   "execution_count": 4,
   "id": "88b608af",
   "metadata": {},
   "outputs": [],
   "source": [
    "\n",
    "def process_command(command):\n",
    "    print(f\"Processing command: {command}\")\n",
    "    tokens = word_tokenize(command.lower())\n",
    "    product_name = extract_product_name(command)\n",
    "    \n",
    "    if \"find\" in tokens and \"product\" in tokens:\n",
    "        response = \"Sure, I can help you find a product. What are you looking for?\"\n",
    "    elif \"check\" in tokens and \"stock\" in tokens:\n",
    "        product_name = extract_product_name(command)\n",
    "        if product_name in inventory:\n",
    "            item = inventory[product_name]\n",
    "            response = f\"We have {item['quantity']} {product_name}(s) in stock, each {item['volume']} at ${item['price']}.\"\n",
    "        else:\n",
    "            response = f\"Sorry, we don't have {product_name} in our inventory.\"\n",
    "    elif \"price\" in tokens:\n",
    "        product_name = extract_product_name(command)\n",
    "        if product_name in inventory:\n",
    "            response = f\"The price of {product_name} is ${inventory[product_name]['price']} per {inventory[product_name]['volume']}.\"\n",
    "        else:\n",
    "            response = f\"Sorry, we don't have {product_name} in our inventory.\"\n",
    "    elif \"volume\" in tokens:\n",
    "        product_name = extract_product_name(command)\n",
    "        if product_name in inventory:\n",
    "            response = f\"The volume of {product_name} is {inventory[product_name]['volume']}.\"\n",
    "        else:\n",
    "            response = f\"Sorry, we don't have {product_name} in our inventory.\"\n",
    "    elif \"information\" in tokens and \"paint\" in tokens:\n",
    "        response = \"I can provide information about our stock and pricing. What would you like to know?\"\n",
    "    else:\n",
    "        response = \"I'm sorry, I didn't understand that. Can you please repeat?\"\n",
    "    print(f\"Response: {response}\")\n",
    "    return response\n",
    "\n",
    "def extract_product_name(command):\n",
    "    command = command.lower()\n",
    "    best_match = \"\"\n",
    "    best_match_length = 0\n",
    "    for product in inventory.keys():\n",
    "        product_lower = product.lower()\n",
    "        if product_lower in command:\n",
    "            if len(product_lower) > best_match_length:\n",
    "                best_match = product\n",
    "                best_match_length = len(product_lower)\n",
    "    return best_match\n",
    "\n"
   ]
  },
  {
   "cell_type": "code",
   "execution_count": 5,
   "id": "60953f7b",
   "metadata": {},
   "outputs": [],
   "source": [
    "def assistant(audio_file_path):\n",
    "    print(f\"Assistant received audio file path: {audio_file_path}\")\n",
    "    command = listen(audio_file_path)\n",
    "    response = process_command(command)\n",
    "    audio_response = speak(response)\n",
    "    return response, audio_response"
   ]
  },
  {
   "cell_type": "code",
   "execution_count": 6,
   "id": "ae5c4279",
   "metadata": {},
   "outputs": [
    {
     "name": "stdout",
     "output_type": "stream",
     "text": [
      "Running on local URL:  http://127.0.0.1:7861\n",
      "Running on public URL: https://f22335db86254e199e.gradio.live\n",
      "\n",
      "This share link expires in 72 hours. For free permanent hosting and GPU upgrades, run `gradio deploy` from Terminal to deploy to Spaces (https://huggingface.co/spaces)\n"
     ]
    },
    {
     "data": {
      "text/html": [
       "<div><iframe src=\"https://f22335db86254e199e.gradio.live\" width=\"100%\" height=\"500\" allow=\"autoplay; camera; microphone; clipboard-read; clipboard-write;\" frameborder=\"0\" allowfullscreen></iframe></div>"
      ],
      "text/plain": [
       "<IPython.core.display.HTML object>"
      ]
     },
     "metadata": {},
     "output_type": "display_data"
    },
    {
     "data": {
      "text/plain": []
     },
     "execution_count": 6,
     "metadata": {},
     "output_type": "execute_result"
    },
    {
     "name": "stdout",
     "output_type": "stream",
     "text": [
      "Assistant received audio file path: /private/var/folders/xw/v1jvfgnx0qd3b1ytj3y03tk00000gn/T/gradio/de4071ce17fc06af090e8573ca4f60a76143c07c/audio.wav\n",
      "Received audio file path: /private/var/folders/xw/v1jvfgnx0qd3b1ytj3y03tk00000gn/T/gradio/de4071ce17fc06af090e8573ca4f60a76143c07c/audio.wav\n",
      "Recognized text: what is the price of Regal select flat white\n",
      "Processing command: what is the price of Regal select flat white\n",
      "Response: Sorry, we don't have  in our inventory.\n",
      "Playing sound: response.mp3\n",
      "Assistant received audio file path: /private/var/folders/xw/v1jvfgnx0qd3b1ytj3y03tk00000gn/T/gradio/b59baf0eb02bbf426691453aee6b8386ccb35c77/audio.wav\n",
      "Received audio file path: /private/var/folders/xw/v1jvfgnx0qd3b1ytj3y03tk00000gn/T/gradio/b59baf0eb02bbf426691453aee6b8386ccb35c77/audio.wav\n",
      "Recognized text: what is the price of Regal select flat base 1\n",
      "Processing command: what is the price of Regal select flat base 1\n",
      "Response: Sorry, we don't have  in our inventory.\n",
      "Playing sound: response.mp3\n"
     ]
    }
   ],
   "source": [
    "# Create Gradio interface\n",
    "iface = gr.Interface(\n",
    "    fn=assistant,\n",
    "    inputs=gr.Audio(\"microphone\", type=\"filepath\"),\n",
    "    outputs=[gr.Textbox(), gr.Audio(type=\"filepath\")]\n",
    ")\n",
    "\n",
    "iface.launch(share=True)"
   ]
  }
 ],
 "metadata": {
  "kernelspec": {
   "display_name": "dev",
   "language": "python",
   "name": "python3"
  },
  "language_info": {
   "codemirror_mode": {
    "name": "ipython",
    "version": 3
   },
   "file_extension": ".py",
   "mimetype": "text/x-python",
   "name": "python",
   "nbconvert_exporter": "python",
   "pygments_lexer": "ipython3",
   "version": "3.10.13"
  }
 },
 "nbformat": 4,
 "nbformat_minor": 5
}
