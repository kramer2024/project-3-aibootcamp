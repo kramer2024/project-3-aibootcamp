{
 "cells": [
  {
   "cell_type": "code",
   "execution_count": 1,
   "metadata": {},
   "outputs": [
    {
     "name": "stderr",
     "output_type": "stream",
     "text": [
      "[nltk_data] Downloading package punkt to\n",
      "[nltk_data]     C:\\Users\\lovel\\AppData\\Roaming\\nltk_data...\n",
      "[nltk_data]   Package punkt is already up-to-date!\n"
     ]
    },
    {
     "data": {
      "text/plain": [
       "True"
      ]
     },
     "execution_count": 1,
     "metadata": {},
     "output_type": "execute_result"
    }
   ],
   "source": [
    "# import necessary libraries\n",
    "import speech_recognition as sr\n",
    "from gtts import gTTS\n",
    "import playsound\n",
    "import nltk\n",
    "from nltk.tokenize import word_tokenize\n",
    "import csv\n",
    "import os\n",
    "\n",
    "# Download necessary NLTK data\n",
    "nltk.download('punkt')\n"
   ]
  },
  {
   "cell_type": "code",
   "execution_count": 2,
   "metadata": {},
   "outputs": [],
   "source": [
    "# Load inventory from CSV\n",
    "def load_inventory(file_path):\n",
    "    # Initialize an empty dictionary to hold data\n",
    "    inventory = {}\n",
    "    # Open CSV file in read mode (r)\n",
    "    with open(file_path, mode='r') as file:\n",
    "        reader = csv.DictReader(file)\n",
    "        # Iterate of each row in the CSV file\n",
    "        for row in reader:\n",
    "            # Extract the product name from the current row\n",
    "            product = row[\"product\"]\n",
    "            # Add the product to the inventory dictionary with its qty and price\n",
    "            inventory[product] = {\"quantity\": int(row[\"quantity\"]), \"price\": float(row[\"price\"])}\n",
    "            # Return populated inventory dictionary\n",
    "    return inventory\n",
    "\n",
    "# Update the file path to the resources folder\n",
    "csv_file_path = os.path.join('Resources', 'mock_inventory.csv')\n",
    "inventory = load_inventory(csv_file_path)\n"
   ]
  },
  {
   "cell_type": "code",
   "execution_count": 3,
   "metadata": {},
   "outputs": [],
   "source": [
    "# create a function that will recognize when person is speaking\n",
    "def listen():\n",
    "    # Creating a Recognizer instance to recognize speech\n",
    "    recognizer = sr.Recognizer()\n",
    "    # Use computer microphone as the source of the audio\n",
    "    with sr.Microphone() as source:\n",
    "        # this lets the user know that the assistant is listening\n",
    "        print(\"Listening...\")\n",
    "        # captures the audio that comes in from mic\n",
    "        audio = recognizer.listen(source)\n",
    "        try:\n",
    "            # Uses Google's speech recognition to transcribe the audio to text\n",
    "            text = recognizer.recognize_google(audio)\n",
    "            # prints the transcribed text\n",
    "            print(f\"User said: {text}\")\n",
    "            # return the transcribed text\n",
    "            return text\n",
    "        except sr.UnknownValueError:\n",
    "            # how to handle where speech was not understood\n",
    "            print(\"Sorry, I did not understand that.\")\n",
    "            # empty string shows a failure to understand\n",
    "            return \"\"\n",
    "        except sr.RequestError:\n",
    "            print(\"Sorry, the service is down.\")\n",
    "            return \"\"\n",
    "\n",
    "def speak(text):\n",
    "    # Creates a gTTS (Google Text-to-Speech) instance with provided text\n",
    "    tts = gTTS(text=text, lang='en')\n",
    "    # Define the filename for the audio file\n",
    "    filename = \"response.mp3\"\n",
    "    # Save to mp3 file\n",
    "    tts.save(filename)\n",
    "    # play the mp3 file to speak the captured text\n",
    "    playsound.playsound(filename)\n"
   ]
  },
  {
   "cell_type": "code",
   "execution_count": 4,
   "metadata": {},
   "outputs": [],
   "source": [
    "# create a function that will understand commands and reply with appropriate response\n",
    "# this will need to be updated as of 7/21, some responses are not relevant.\n",
    "def process_command(command):\n",
    "    # tokenize the command into single words and convert them to lowercase\n",
    "    tokens = word_tokenize(command.lower())\n",
    "    \n",
    "    if \"find\" in tokens and \"product\" in tokens:\n",
    "        # If the command has both \"find\" and \"product\", respond with:\n",
    "        speak(\"Sure, I can help you find a product. What are you looking for?\")\n",
    "    elif \"check\" in tokens and \"stock\" in tokens:\n",
    "        # If the command has both \"check and \"stock, attempt to find the product\n",
    "        product_name = extract_product_name(tokens)\n",
    "        if product_name in inventory:\n",
    "            # If the product is found in the inventory, respond with the quantity in stock\n",
    "            quantity = inventory[product_name][\"quantity\"]\n",
    "            speak(f\"We have {quantity} {product_name}(s) in stock.\")\n",
    "        else:\n",
    "            # If the product is not found in the inventory, respond with:\n",
    "            speak(f\"Sorry, we don't have {product_name} in our inventory.\")\n",
    "    elif \"information\" in tokens and \"paint\" in tokens:\n",
    "        # If the command contains both :information\" and \"paint\", ask what specific information is needed\n",
    "        speak(\"I can provide information about our paints and finishes. What would you like to know?\")\n",
    "    elif \"paint\" in tokens and \"colors\" in tokens:\n",
    "        # this will be removed\n",
    "        speak(\"We have a wide variety of paint colors. Are you looking for interior or exterior paints?\")\n",
    "    else:\n",
    "        # If the command does not match anything...respond with:\n",
    "        speak(\"I'm sorry, I didn't understand that. Can you please repeat?\")\n",
    "\n",
    "def extract_product_name(tokens):\n",
    "    # Iterate over each token in the command\n",
    "    for token in tokens:\n",
    "        # Check if the token matches any product name in inventory\n",
    "        for product in inventory.keys():\n",
    "            if token in product.lower():\n",
    "                # Return the product name if a match is found\n",
    "                return product\n",
    "            # Return an empty string if no match is found\n",
    "    return \"\"\n"
   ]
  },
  {
   "cell_type": "code",
   "execution_count": 5,
   "metadata": {},
   "outputs": [
    {
     "name": "stdout",
     "output_type": "stream",
     "text": [
      "Listening...\n",
      "User said: find a product\n"
     ]
    },
    {
     "name": "stderr",
     "output_type": "stream",
     "text": [
      "\n",
      "    Error 263 for command:\n",
      "        open response.mp3\n",
      "    The specified device is not open or is not recognized by MCI.\n",
      "\n",
      "    Error 263 for command:\n",
      "        close response.mp3\n",
      "    The specified device is not open or is not recognized by MCI.\n",
      "Failed to close the file: response.mp3\n"
     ]
    },
    {
     "ename": "PlaysoundException",
     "evalue": "\n    Error 263 for command:\n        open response.mp3\n    The specified device is not open or is not recognized by MCI.",
     "output_type": "error",
     "traceback": [
      "\u001b[1;31m---------------------------------------------------------------------------\u001b[0m",
      "\u001b[1;31mPlaysoundException\u001b[0m                        Traceback (most recent call last)",
      "Cell \u001b[1;32mIn[5], line 13\u001b[0m\n\u001b[0;32m      9\u001b[0m \u001b[38;5;66;03m# Check if a command was successfully transcribed (i.e., if 'command' is not empty).\u001b[39;00m\n\u001b[0;32m     10\u001b[0m \u001b[38;5;28;01mif\u001b[39;00m command:\n\u001b[0;32m     11\u001b[0m     \u001b[38;5;66;03m# If a valid command was captured, call the process_command() function to handle\u001b[39;00m\n\u001b[0;32m     12\u001b[0m     \u001b[38;5;66;03m# the command and provide the appropriate response\u001b[39;00m\n\u001b[1;32m---> 13\u001b[0m     process_command(command)\n",
      "Cell \u001b[1;32mIn[4], line 9\u001b[0m, in \u001b[0;36mprocess_command\u001b[1;34m(command)\u001b[0m\n\u001b[0;32m      5\u001b[0m tokens \u001b[38;5;241m=\u001b[39m word_tokenize(command\u001b[38;5;241m.\u001b[39mlower())\n\u001b[0;32m      7\u001b[0m \u001b[38;5;28;01mif\u001b[39;00m \u001b[38;5;124m\"\u001b[39m\u001b[38;5;124mfind\u001b[39m\u001b[38;5;124m\"\u001b[39m \u001b[38;5;129;01min\u001b[39;00m tokens \u001b[38;5;129;01mand\u001b[39;00m \u001b[38;5;124m\"\u001b[39m\u001b[38;5;124mproduct\u001b[39m\u001b[38;5;124m\"\u001b[39m \u001b[38;5;129;01min\u001b[39;00m tokens:\n\u001b[0;32m      8\u001b[0m     \u001b[38;5;66;03m# If the command has both \"find\" and \"product\", respond with:\u001b[39;00m\n\u001b[1;32m----> 9\u001b[0m     speak(\u001b[38;5;124m\"\u001b[39m\u001b[38;5;124mSure, I can help you find a product. What are you looking for?\u001b[39m\u001b[38;5;124m\"\u001b[39m)\n\u001b[0;32m     10\u001b[0m \u001b[38;5;28;01melif\u001b[39;00m \u001b[38;5;124m\"\u001b[39m\u001b[38;5;124mcheck\u001b[39m\u001b[38;5;124m\"\u001b[39m \u001b[38;5;129;01min\u001b[39;00m tokens \u001b[38;5;129;01mand\u001b[39;00m \u001b[38;5;124m\"\u001b[39m\u001b[38;5;124mstock\u001b[39m\u001b[38;5;124m\"\u001b[39m \u001b[38;5;129;01min\u001b[39;00m tokens:\n\u001b[0;32m     11\u001b[0m     \u001b[38;5;66;03m# If the command has both \"check and \"stock, attempt to find the product\u001b[39;00m\n\u001b[0;32m     12\u001b[0m     product_name \u001b[38;5;241m=\u001b[39m extract_product_name(tokens)\n",
      "Cell \u001b[1;32mIn[3], line 35\u001b[0m, in \u001b[0;36mspeak\u001b[1;34m(text)\u001b[0m\n\u001b[0;32m     33\u001b[0m tts\u001b[38;5;241m.\u001b[39msave(filename)\n\u001b[0;32m     34\u001b[0m \u001b[38;5;66;03m# play the mp3 file to speak the captured text\u001b[39;00m\n\u001b[1;32m---> 35\u001b[0m playsound\u001b[38;5;241m.\u001b[39mplaysound(filename)\n",
      "File \u001b[1;32mc:\\Users\\lovel\\anaconda3\\Lib\\site-packages\\playsound.py:72\u001b[0m, in \u001b[0;36m_playsoundWin\u001b[1;34m(sound, block)\u001b[0m\n\u001b[0;32m     70\u001b[0m \u001b[38;5;28;01mtry\u001b[39;00m:\n\u001b[0;32m     71\u001b[0m     logger\u001b[38;5;241m.\u001b[39mdebug(\u001b[38;5;124m'\u001b[39m\u001b[38;5;124mStarting\u001b[39m\u001b[38;5;124m'\u001b[39m)\n\u001b[1;32m---> 72\u001b[0m     winCommand(\u001b[38;5;124mu\u001b[39m\u001b[38;5;124m'\u001b[39m\u001b[38;5;124mopen \u001b[39m\u001b[38;5;132;01m{}\u001b[39;00m\u001b[38;5;124m'\u001b[39m\u001b[38;5;241m.\u001b[39mformat(sound))\n\u001b[0;32m     73\u001b[0m     winCommand(\u001b[38;5;124mu\u001b[39m\u001b[38;5;124m'\u001b[39m\u001b[38;5;124mplay \u001b[39m\u001b[38;5;132;01m{}\u001b[39;00m\u001b[38;5;132;01m{}\u001b[39;00m\u001b[38;5;124m'\u001b[39m\u001b[38;5;241m.\u001b[39mformat(sound, \u001b[38;5;124m'\u001b[39m\u001b[38;5;124m wait\u001b[39m\u001b[38;5;124m'\u001b[39m \u001b[38;5;28;01mif\u001b[39;00m block \u001b[38;5;28;01melse\u001b[39;00m \u001b[38;5;124m'\u001b[39m\u001b[38;5;124m'\u001b[39m))\n\u001b[0;32m     74\u001b[0m     logger\u001b[38;5;241m.\u001b[39mdebug(\u001b[38;5;124m'\u001b[39m\u001b[38;5;124mReturning\u001b[39m\u001b[38;5;124m'\u001b[39m)\n",
      "File \u001b[1;32mc:\\Users\\lovel\\anaconda3\\Lib\\site-packages\\playsound.py:64\u001b[0m, in \u001b[0;36m_playsoundWin.<locals>.winCommand\u001b[1;34m(*command)\u001b[0m\n\u001b[0;32m     60\u001b[0m     exceptionMessage \u001b[38;5;241m=\u001b[39m (\u001b[38;5;124m'\u001b[39m\u001b[38;5;130;01m\\n\u001b[39;00m\u001b[38;5;124m    Error \u001b[39m\u001b[38;5;124m'\u001b[39m \u001b[38;5;241m+\u001b[39m \u001b[38;5;28mstr\u001b[39m(errorCode) \u001b[38;5;241m+\u001b[39m \u001b[38;5;124m'\u001b[39m\u001b[38;5;124m for command:\u001b[39m\u001b[38;5;124m'\u001b[39m\n\u001b[0;32m     61\u001b[0m                         \u001b[38;5;124m'\u001b[39m\u001b[38;5;130;01m\\n\u001b[39;00m\u001b[38;5;124m        \u001b[39m\u001b[38;5;124m'\u001b[39m \u001b[38;5;241m+\u001b[39m command\u001b[38;5;241m.\u001b[39mdecode(\u001b[38;5;124m'\u001b[39m\u001b[38;5;124mutf-16\u001b[39m\u001b[38;5;124m'\u001b[39m) \u001b[38;5;241m+\u001b[39m\n\u001b[0;32m     62\u001b[0m                         \u001b[38;5;124m'\u001b[39m\u001b[38;5;130;01m\\n\u001b[39;00m\u001b[38;5;124m    \u001b[39m\u001b[38;5;124m'\u001b[39m \u001b[38;5;241m+\u001b[39m errorBuffer\u001b[38;5;241m.\u001b[39mraw\u001b[38;5;241m.\u001b[39mdecode(\u001b[38;5;124m'\u001b[39m\u001b[38;5;124mutf-16\u001b[39m\u001b[38;5;124m'\u001b[39m)\u001b[38;5;241m.\u001b[39mrstrip(\u001b[38;5;124m'\u001b[39m\u001b[38;5;130;01m\\0\u001b[39;00m\u001b[38;5;124m'\u001b[39m))\n\u001b[0;32m     63\u001b[0m     logger\u001b[38;5;241m.\u001b[39merror(exceptionMessage)\n\u001b[1;32m---> 64\u001b[0m     \u001b[38;5;28;01mraise\u001b[39;00m PlaysoundException(exceptionMessage)\n\u001b[0;32m     65\u001b[0m \u001b[38;5;28;01mreturn\u001b[39;00m buf\u001b[38;5;241m.\u001b[39mvalue\n",
      "\u001b[1;31mPlaysoundException\u001b[0m: \n    Error 263 for command:\n        open response.mp3\n    The specified device is not open or is not recognized by MCI."
     ]
    }
   ],
   "source": [
    "# This block of code ensures that the following statements are only executed \n",
    "# when this script is run directly, and not when it is imported as a module in another script.\n",
    "if __name__ == \"__main__\":\n",
    "    # This creates an infinite loop to continuously listen for and process commands.\n",
    "    while True:\n",
    "        # Call the listen() function to capture and transcribe spoken commands from the user.\n",
    "        # The transcribed text is stored in the variable 'command'.\n",
    "        command = listen()\n",
    "        # Check if a command was successfully transcribed (i.e., if 'command' is not empty).\n",
    "        if command:\n",
    "            # If a valid command was captured, call the process_command() function to handle\n",
    "            # the command and provide the appropriate response\n",
    "            process_command(command)\n"
   ]
  }
 ],
 "metadata": {
  "kernelspec": {
   "display_name": "dev",
   "language": "python",
   "name": "python3"
  },
  "language_info": {
   "codemirror_mode": {
    "name": "ipython",
    "version": 3
   },
   "file_extension": ".py",
   "mimetype": "text/x-python",
   "name": "python",
   "nbconvert_exporter": "python",
   "pygments_lexer": "ipython3",
   "version": "3.11.5"
  }
 },
 "nbformat": 4,
 "nbformat_minor": 2
}
