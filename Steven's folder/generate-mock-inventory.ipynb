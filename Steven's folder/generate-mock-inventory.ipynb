{
 "cells": [
  {
   "cell_type": "code",
   "execution_count": 1,
   "metadata": {},
   "outputs": [],
   "source": [
    "import csv\n",
    "import random\n",
    "import os\n",
    "\n",
    "# List of products\n",
    "products = [\n",
    "    \"Regal Interior Flat\", \"Regal Interior Matte\", \"Regal Interior Eggshell\", \n",
    "    \"Regal Interior Pearl\", \"Regal Interior Semi-Gloss\", \"Regal Exterior Flat\", \n",
    "    \"Regal Exterior Low Lustre\", \"Regal Exterior Soft-Gloss\",\n",
    "    \"Nylon Polyester Angle 1/4 inch\", \"Nylon Polyester Angle 1/2 inch\", \n",
    "    \"Nylon Polyester Angle 3/4 inch\", \"Nylon-Polyester Flat 1 inch\",\n",
    "    \"Sheepskin Roller Cover 1/4 inch\", \"Sheepskin Roller Cover 1/2 inch\", \n",
    "    \"Sheepskin Roller Cover 3/4 inch\", \"Sheepskin Roller Cover 1/2 inch\", \n",
    "    \"Sheepskin Roller Cover 1 inch\", \"Sheepskin Roller Cover 1 1/4 inch\"\n",
    "]\n"
   ]
  },
  {
   "cell_type": "code",
   "execution_count": 2,
   "metadata": {},
   "outputs": [],
   "source": [
    "# Function to generate random quantity and price\n",
    "def generate_quantity_and_price():\n",
    "    quantity = random.randint(0, 100)\n",
    "    price = round(random.uniform(5.0, 50.0), 2)\n",
    "    return quantity, price\n"
   ]
  },
  {
   "cell_type": "code",
   "execution_count": 3,
   "metadata": {},
   "outputs": [
    {
     "name": "stdout",
     "output_type": "stream",
     "text": [
      "mock_inventory.csv file has been generated in the 'Resources' folder.\n"
     ]
    }
   ],
   "source": [
    "# Create the CSV file\n",
    "csv_file_path = os.path.join('Resources', 'mock_inventory.csv')\n",
    "with open(csv_file_path, mode='w', newline='') as file:\n",
    "    writer = csv.writer(file)\n",
    "    writer.writerow([\"product\", \"quantity\", \"price\"])\n",
    "    \n",
    "    for product in products:\n",
    "        quantity, price = generate_quantity_and_price()\n",
    "        writer.writerow([product, quantity, price])\n",
    "\n",
    "print(\"mock_inventory.csv file has been generated in the 'Resources' folder.\")\n"
   ]
  }
 ],
 "metadata": {
  "kernelspec": {
   "display_name": "dev",
   "language": "python",
   "name": "python3"
  },
  "language_info": {
   "codemirror_mode": {
    "name": "ipython",
    "version": 3
   },
   "file_extension": ".py",
   "mimetype": "text/x-python",
   "name": "python",
   "nbconvert_exporter": "python",
   "pygments_lexer": "ipython3",
   "version": "3.10.13"
  }
 },
 "nbformat": 4,
 "nbformat_minor": 2
}
