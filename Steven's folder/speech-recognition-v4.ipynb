{
 "cells": [
  {
   "cell_type": "code",
   "execution_count": 1,
   "metadata": {},
   "outputs": [
    {
     "name": "stdout",
     "output_type": "stream",
     "text": [
      "Requirement already satisfied: fuzzywuzzy in ./dev/lib/python3.10/site-packages (0.18.0)\n",
      "Requirement already satisfied: python-Levenshtein in ./dev/lib/python3.10/site-packages (0.25.1)\n",
      "Requirement already satisfied: Levenshtein==0.25.1 in ./dev/lib/python3.10/site-packages (from python-Levenshtein) (0.25.1)\n",
      "Requirement already satisfied: rapidfuzz<4.0.0,>=3.8.0 in ./dev/lib/python3.10/site-packages (from Levenshtein==0.25.1->python-Levenshtein) (3.9.5)\n",
      "Note: you may need to restart the kernel to use updated packages.\n"
     ]
    }
   ],
   "source": [
    "pip install fuzzywuzzy python-Levenshtein\n"
   ]
  },
  {
   "cell_type": "code",
   "execution_count": null,
   "metadata": {},
   "outputs": [],
   "source": [
    "# Import necessary libraries\n",
    "import speech_recognition as sr\n",
    "from gtts import gTTS\n",
    "import playsound\n",
    "import nltk\n",
    "from nltk.tokenize import word_tokenize\n",
    "import csv\n",
    "import os\n",
    "import gradio as gr\n",
    "from fuzzywuzzy import fuzz\n",
    "from fuzzywuzzy import process\n",
    "\n",
    "# Download necessary NLTK data\n",
    "nltk.download('punkt')"
   ]
  },
  {
   "cell_type": "code",
   "execution_count": null,
   "metadata": {},
   "outputs": [],
   "source": [
    "# Load inventory from CSV\n",
    "def load_inventory(file_path):\n",
    "    inventory = {}\n",
    "    with open(file_path, mode='r') as file:\n",
    "        reader = csv.DictReader(file)\n",
    "        # loop through each row in the csv\n",
    "        for row in reader:\n",
    "            # get product name from current row\n",
    "            product = row[\"product\"]\n",
    "            inventory[product] = {\n",
    "                \"quantity\": int(row[\"quantity\"]), # convert quantity into an integer\n",
    "                \"volume\": row[\"volume\"], # keep volume as a string\n",
    "                \"price\": float(row[\"price\"]) # convert price into a float\n",
    "            }\n",
    "    return inventory\n",
    "\n",
    "# Update the file path to the resources folder\n",
    "csv_file_path = os.path.join('Resources', 'final_inventory.csv')\n",
    "# load inventory into the function we just defined\n",
    "inventory = load_inventory(csv_file_path)"
   ]
  },
  {
   "cell_type": "code",
   "execution_count": null,
   "metadata": {},
   "outputs": [],
   "source": [
    "# Create a function that will recognize when a person is speaking\n",
    "def listen(audio_file_path):\n",
    "    print(f\"Received audio file path: {audio_file_path}\") # for debugging\n",
    "    # create a recognizer instance\n",
    "    recognizer = sr.Recognizer()\n",
    "    try:\n",
    "        with sr.AudioFile(audio_file_path) as source:\n",
    "            # record audio from the file\n",
    "            audio = recognizer.record(source)\n",
    "            # use Google's speech recognition to turn audio into text\n",
    "            text = recognizer.recognize_google(audio)\n",
    "            print(f\"Recognized text: {text}\") # for debugging\n",
    "            # returns the transribed text\n",
    "            return text\n",
    "    except sr.UnknownValueError:\n",
    "        # handles case where speech wasn't understood\n",
    "        print(\"Error: Could not understand the audio\")\n",
    "        return \"Sorry, I did not understand that.\"\n",
    "    except sr.RequestError:\n",
    "        # handles case where service might be down\n",
    "        print(\"Error: Could not request results from Google Speech Recognition service.\")\n",
    "        return \"Sorry, the service is down.\"\n",
    "    except AssertionError as e:\n",
    "        # handles case where the audio file isn't valid\n",
    "        print(f\"AssertionError: {e}\")\n",
    "        return \"Sorry, the audio file is not valid.\""
   ]
  },
  {
   "cell_type": "code",
   "execution_count": null,
   "metadata": {},
   "outputs": [],
   "source": [
    "# function to convert text to speech and play it\n",
    "def speak(text):\n",
    "    # default message if there is no text\n",
    "    if not text:\n",
    "        text = \"Sorry, I have nothing to say.\"\n",
    "    tts = gTTS(text=text, lang='en') # use gTTS to convert text to speech in English\n",
    "    # define the filename for the audio file \n",
    "    filename = \"response.mp3\"\n",
    "    # save the speech that was generated into an mp3 file\n",
    "    tts.save(filename)\n",
    "    try:\n",
    "        # plays mp3 file\n",
    "        playsound.playsound(filename)\n",
    "        print(f\"Playing sound: {filename}\")\n",
    "    except Exception as e:\n",
    "        # handles any errors that might happen during playback\n",
    "        print(f\"Error playing sound: {e}\")\n",
    "    return filename"
   ]
  },
  {
   "cell_type": "code",
   "execution_count": null,
   "metadata": {},
   "outputs": [],
   "source": [
    "# function to process spoken command\n",
    "def process_command(command):\n",
    "    print(f\"Processing command: {command}\")\n",
    "    # tokenize the command into individual words and convert into lowercase\n",
    "    tokens = word_tokenize(command.lower())\n",
    "    # extract the product name from the command\n",
    "    product_name = extract_product_name(command)\n",
    "\n",
    "    # check for a greeting \n",
    "    if \"hello\" in tokens or \"Paxil\" in tokens:\n",
    "        response = \"Hello, I am Paxil your voice assistant kitty. I am here to help you find information?\"\n",
    "    # check if the command is about stock    \n",
    "    elif \"check\" in tokens and \"stock\" in tokens:\n",
    "        if product_name in inventory:\n",
    "            item = inventory[product_name]\n",
    "            response = f\"We have {item['quantity']} {product_name}(s) in stock.\"\n",
    "        else:\n",
    "            response = f\"Sorry, we don't have {product_name} in our inventory.\"\n",
    "    # check if the command is about price\n",
    "    elif \"price\" in tokens:\n",
    "        if product_name in inventory:\n",
    "            response = f\"The price of {product_name} is ${inventory[product_name]['price']}.\"\n",
    "        else:\n",
    "            response = f\"Sorry, we don't have {product_name} in our inventory.\"\n",
    "    # check if the command is about volume        \n",
    "    elif \"volume\" in tokens:\n",
    "        if product_name in inventory:\n",
    "            response = f\"The volume of {product_name} is {inventory[product_name]['volume']}.\"\n",
    "        else:\n",
    "            response = f\"Sorry, we don't have {product_name} in our inventory.\"\n",
    "    # check if the command is a thank you or a goodbye\n",
    "    elif \"thank you\" in tokens or \"goodbye\" in tokens:\n",
    "        response = \"You're welcome, please proceed to check out.\"\n",
    "    # if the command doesn't match any pattern    \n",
    "    else:\n",
    "        response = \"I'm sorry, I didn't understand that. Can you please repeat?\"\n",
    "    print(f\"Response: {response}\")\n",
    "    return response"
   ]
  },
  {
   "cell_type": "code",
   "execution_count": null,
   "metadata": {},
   "outputs": [],
   "source": [
    "# function to extract the product name from the command using fuzzy matching (library that was used)\n",
    "def extract_product_name(command):\n",
    "    # converts command to lower case for case-insensitive comparisons\n",
    "    command = command.lower()\n",
    "    # use fuzzy matching to find the best match for the command in the inventory keys\n",
    "    best_match, best_score = process.extractOne(command, inventory.keys(), scorer=fuzz.partial_ratio)\n",
    "    # check if the best score is above the threshold (80 in this case)\n",
    "    if best_score > 80:  # Adjust the threshold as needed (works well enough!)\n",
    "        # print the best match and its score for debugging\n",
    "        print(f\"Best match: {best_match} with score {best_score}\")  # Debug statement\n",
    "        # return the best match as the product name\n",
    "        return best_match\n",
    "    else:\n",
    "        print(f\"No suitable match found for command: {command}\")  # Debug statement\n",
    "        return \"\" # return an empty string if no match is found"
   ]
  },
  {
   "cell_type": "code",
   "execution_count": null,
   "metadata": {},
   "outputs": [],
   "source": [
    "# function to act as the main assistant that processes audio commands\n",
    "def assistant(audio_file_path):\n",
    "    print(f\"Assistant received audio file path: {audio_file_path}\") # debug statement\n",
    "    # use the listen function to convert audio to text\n",
    "    command = listen(audio_file_path)\n",
    "    # process text command and generate a response\n",
    "    response = process_command(command)\n",
    "    # convert the response text to speech and play it\n",
    "    audio_response = speak(response)\n",
    "    return response, audio_response # returns the text response and path to audio file"
   ]
  },
  {
   "cell_type": "code",
   "execution_count": 2,
   "metadata": {},
   "outputs": [
    {
     "name": "stderr",
     "output_type": "stream",
     "text": [
      "/Users/stevenhill/Desktop/bootcamp/OSU-VIRT-AI-PT-02-2024-U-LOLC/Project-3/dev/lib/python3.10/site-packages/tqdm/auto.py:21: TqdmWarning: IProgress not found. Please update jupyter and ipywidgets. See https://ipywidgets.readthedocs.io/en/stable/user_install.html\n",
      "  from .autonotebook import tqdm as notebook_tqdm\n",
      "[nltk_data] Downloading package punkt to\n",
      "[nltk_data]     /Users/stevenhill/nltk_data...\n",
      "[nltk_data]   Package punkt is already up-to-date!\n"
     ]
    },
    {
     "name": "stdout",
     "output_type": "stream",
     "text": [
      "Running on local URL:  http://127.0.0.1:7863\n",
      "Running on public URL: https://15be218af332910910.gradio.live\n",
      "\n",
      "This share link expires in 72 hours. For free permanent hosting and GPU upgrades, run `gradio deploy` from Terminal to deploy to Spaces (https://huggingface.co/spaces)\n"
     ]
    },
    {
     "data": {
      "text/html": [
       "<div><iframe src=\"https://15be218af332910910.gradio.live\" width=\"100%\" height=\"500\" allow=\"autoplay; camera; microphone; clipboard-read; clipboard-write;\" frameborder=\"0\" allowfullscreen></iframe></div>"
      ],
      "text/plain": [
       "<IPython.core.display.HTML object>"
      ]
     },
     "metadata": {},
     "output_type": "display_data"
    },
    {
     "data": {
      "text/plain": []
     },
     "execution_count": 2,
     "metadata": {},
     "output_type": "execute_result"
    },
    {
     "name": "stdout",
     "output_type": "stream",
     "text": [
      "Assistant received audio file path: /private/var/folders/xw/v1jvfgnx0qd3b1ytj3y03tk00000gn/T/gradio/a3c90b72f37f757f5c8ae67ea61f783b7f85736e/audio.wav\n",
      "Received audio file path: /private/var/folders/xw/v1jvfgnx0qd3b1ytj3y03tk00000gn/T/gradio/a3c90b72f37f757f5c8ae67ea61f783b7f85736e/audio.wav\n",
      "Recognized text: hello Paxil\n",
      "Processing command: hello Paxil\n",
      "No suitable match found for command: hello paxil\n",
      "Response: Hello, I am Paxil your voice assistant kitty. I am here to help you find information?\n",
      "Playing sound: response.mp3\n",
      "Assistant received audio file path: /private/var/folders/xw/v1jvfgnx0qd3b1ytj3y03tk00000gn/T/gradio/133f83b7566aa6eec7c450cc11f7ee7ed52d7a2d/audio.wav\n",
      "Received audio file path: /private/var/folders/xw/v1jvfgnx0qd3b1ytj3y03tk00000gn/T/gradio/133f83b7566aa6eec7c450cc11f7ee7ed52d7a2d/audio.wav\n",
      "Recognized text: what is the price of Final Touch flat\n",
      "Processing command: what is the price of Final Touch flat\n",
      "Best match: FINAL TOUCH FLAT-WHITE with score 84\n",
      "Response: The price of FINAL TOUCH FLAT-WHITE is $68.79 per .\n",
      "Playing sound: response.mp3\n",
      "Assistant received audio file path: /private/var/folders/xw/v1jvfgnx0qd3b1ytj3y03tk00000gn/T/gradio/fc5451d6d9e6d16e56ca7624838cb39dd8a6906e/audio.wav\n",
      "Received audio file path: /private/var/folders/xw/v1jvfgnx0qd3b1ytj3y03tk00000gn/T/gradio/fc5451d6d9e6d16e56ca7624838cb39dd8a6906e/audio.wav\n",
      "Recognized text: what is the volume of Final Touch flat white\n",
      "Processing command: what is the volume of Final Touch flat white\n",
      "Best match: FINAL TOUCH FLAT-WHITE with score 100\n",
      "Response: The volume of FINAL TOUCH FLAT-WHITE is .\n",
      "Playing sound: response.mp3\n",
      "Assistant received audio file path: /private/var/folders/xw/v1jvfgnx0qd3b1ytj3y03tk00000gn/T/gradio/73e8b5be3a671a9fc0a22405d9f4e406f91a36e9/audio.wav\n",
      "Received audio file path: /private/var/folders/xw/v1jvfgnx0qd3b1ytj3y03tk00000gn/T/gradio/73e8b5be3a671a9fc0a22405d9f4e406f91a36e9/audio.wav\n",
      "Recognized text: check stock of Final Touch flat white\n",
      "Processing command: check stock of Final Touch flat white\n",
      "Best match: FINAL TOUCH FLAT-WHITE with score 100\n",
      "Response: We have 23 FINAL TOUCH FLAT-WHITE(s) in stock, each  at $68.79.\n",
      "Playing sound: response.mp3\n",
      "Assistant received audio file path: /private/var/folders/xw/v1jvfgnx0qd3b1ytj3y03tk00000gn/T/gradio/040c888b560a1764680e418c51d9ba681a210d44/audio.wav\n",
      "Received audio file path: /private/var/folders/xw/v1jvfgnx0qd3b1ytj3y03tk00000gn/T/gradio/040c888b560a1764680e418c51d9ba681a210d44/audio.wav\n",
      "Recognized text: check stock for wood Lux clean\n",
      "Processing command: check stock for wood Lux clean\n",
      "Best match: WOODLUXE CLEAN with score 93\n",
      "Response: We have 5 WOODLUXE CLEAN(s) in stock, each quart at $22.13.\n",
      "Playing sound: response.mp3\n",
      "Assistant received audio file path: /private/var/folders/xw/v1jvfgnx0qd3b1ytj3y03tk00000gn/T/gradio/4b239eda3cbca51beed834b727eed610d6123117/audio.wav\n",
      "Received audio file path: /private/var/folders/xw/v1jvfgnx0qd3b1ytj3y03tk00000gn/T/gradio/4b239eda3cbca51beed834b727eed610d6123117/audio.wav\n",
      "Recognized text: check stock for paint extender\n",
      "Processing command: check stock for paint extender\n",
      "Best match: PAINT EXTENDER 1G with score 90\n",
      "Response: We have 16 PAINT EXTENDER 1G(s) in stock, each quart at $25.63.\n",
      "Playing sound: response.mp3\n",
      "Assistant received audio file path: /private/var/folders/xw/v1jvfgnx0qd3b1ytj3y03tk00000gn/T/gradio/2893c24dde1d126d873686e8f94987a58b52aa8a/audio.wav\n",
      "Received audio file path: /private/var/folders/xw/v1jvfgnx0qd3b1ytj3y03tk00000gn/T/gradio/2893c24dde1d126d873686e8f94987a58b52aa8a/audio.wav\n",
      "Recognized text: check stock for element Grand\n",
      "Processing command: check stock for element Grand\n",
      "No suitable match found for command: check stock for element grand\n",
      "Response: Sorry, we don't have  in our inventory.\n",
      "Playing sound: response.mp3\n",
      "Assistant received audio file path: /private/var/folders/xw/v1jvfgnx0qd3b1ytj3y03tk00000gn/T/gradio/9c077c0b2fa2e4dfb9ed04ac4e55d2e4a60fe229/audio.wav\n",
      "Received audio file path: /private/var/folders/xw/v1jvfgnx0qd3b1ytj3y03tk00000gn/T/gradio/9c077c0b2fa2e4dfb9ed04ac4e55d2e4a60fe229/audio.wav\n",
      "Recognized text: check price for wood Lux clean\n",
      "Processing command: check price for wood Lux clean\n",
      "Best match: WOODLUXE CLEAN with score 93\n",
      "Response: The price of WOODLUXE CLEAN is $22.13 per quart.\n",
      "Playing sound: response.mp3\n"
     ]
    }
   ],
   "source": [
    "\n",
    "# Create Gradio interface\n",
    "iface = gr.Interface(\n",
    "    # set the function to be called when an audio input is given\n",
    "    fn=assistant,\n",
    "    # define the input type: audio from the mic, saved as a file\n",
    "    inputs=gr.Audio(\"microphone\", type=\"filepath\"),\n",
    "    # define the outputs: a text box for transcribed text and an audio player for the response\n",
    "    outputs=[gr.Textbox(), gr.Audio(type=\"filepath\")]\n",
    ")\n",
    "# launches gradio interface and makes it shareable with a public URL\n",
    "iface.launch(share=True)\n"
   ]
  }
 ],
 "metadata": {
  "kernelspec": {
   "display_name": "dev",
   "language": "python",
   "name": "python3"
  },
  "language_info": {
   "codemirror_mode": {
    "name": "ipython",
    "version": 3
   },
   "file_extension": ".py",
   "mimetype": "text/x-python",
   "name": "python",
   "nbconvert_exporter": "python",
   "pygments_lexer": "ipython3",
   "version": "3.10.13"
  }
 },
 "nbformat": 4,
 "nbformat_minor": 2
}
