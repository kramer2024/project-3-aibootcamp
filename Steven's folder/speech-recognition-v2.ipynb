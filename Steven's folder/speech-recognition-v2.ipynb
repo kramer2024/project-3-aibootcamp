{
 "cells": [
  {
   "cell_type": "code",
   "execution_count": 1,
   "metadata": {},
   "outputs": [
    {
     "name": "stdout",
     "output_type": "stream",
     "text": [
      "Collecting PyObjCNote: you may need to restart the kernel to use updated packages.\n",
      "\n",
      "  Obtaining dependency information for PyObjC from https://files.pythonhosted.org/packages/cb/a5/4b9ed66894d804dc57c13b7fdb8f65ed831f13514216ce736e1455dfe214/pyobjc-10.3.1-py3-none-any.whl.metadata\n",
      "  Downloading pyobjc-10.3.1-py3-none-any.whl.metadata (26 kB)\n",
      "Collecting pyobjc-core==10.3.1 (from PyObjC)\n",
      "  Downloading pyobjc_core-10.3.1.tar.gz (935 kB)\n",
      "     ---------------------------------------- 0.0/935.0 kB ? eta -:--:--\n",
      "     ---------- --------------------------- 256.0/935.0 kB 5.2 MB/s eta 0:00:01\n",
      "     ------------------------------------- 935.0/935.0 kB 11.9 MB/s eta 0:00:00\n",
      "  Installing build dependencies: started\n",
      "  Installing build dependencies: finished with status 'done'\n",
      "  Getting requirements to build wheel: started\n",
      "  Getting requirements to build wheel: finished with status 'error'\n"
     ]
    },
    {
     "name": "stderr",
     "output_type": "stream",
     "text": [
      "  error: subprocess-exited-with-error\n",
      "  \n",
      "  × Getting requirements to build wheel did not run successfully.\n",
      "  │ exit code: 1\n",
      "  ╰─> [2 lines of output]\n",
      "      running egg_info\n",
      "      error: PyObjC requires macOS to build\n",
      "      [end of output]\n",
      "  \n",
      "  note: This error originates from a subprocess, and is likely not a problem with pip.\n",
      "error: subprocess-exited-with-error\n",
      "\n",
      "× Getting requirements to build wheel did not run successfully.\n",
      "│ exit code: 1\n",
      "╰─> See above for output.\n",
      "\n",
      "note: This error originates from a subprocess, and is likely not a problem with pip.\n"
     ]
    }
   ],
   "source": [
    "pip install PyObjC"
   ]
  },
  {
   "cell_type": "code",
   "execution_count": 2,
   "metadata": {},
   "outputs": [
    {
     "name": "stderr",
     "output_type": "stream",
     "text": [
      "[nltk_data] Downloading package punkt to\n",
      "[nltk_data]     C:\\Users\\lovel\\AppData\\Roaming\\nltk_data...\n",
      "[nltk_data]   Package punkt is already up-to-date!\n"
     ]
    },
    {
     "data": {
      "text/plain": [
       "True"
      ]
     },
     "execution_count": 2,
     "metadata": {},
     "output_type": "execute_result"
    }
   ],
   "source": [
    "# import necessary libraries\n",
    "import speech_recognition as sr\n",
    "from gtts import gTTS\n",
    "import playsound\n",
    "import nltk\n",
    "from nltk.tokenize import word_tokenize\n",
    "import csv\n",
    "import os\n",
    "import gradio as gr\n",
    "\n",
    "# Download necessary NLTK data\n",
    "nltk.download('punkt')\n"
   ]
  },
  {
   "cell_type": "code",
   "execution_count": 3,
   "metadata": {},
   "outputs": [],
   "source": [
    "# Load inventory from CSV\n",
    "def load_inventory(file_path):\n",
    "    # Initialize an empty dictionary to hold data\n",
    "    inventory = {}\n",
    "    # Open CSV file in read mode (r)\n",
    "    with open(file_path, mode='r') as file:\n",
    "        reader = csv.DictReader(file)\n",
    "        # Iterate of each row in the CSV file\n",
    "        for row in reader:\n",
    "            # Extract the product name from the current row\n",
    "            product = row[\"product\"]\n",
    "            # Add the product to the inventory dictionary with its qty and price\n",
    "            inventory[product] = {\"quantity\": int(row[\"quantity\"]), \"price\": float(row[\"price\"])}\n",
    "            # Return populated inventory dictionary\n",
    "    return inventory\n",
    "\n",
    "# Update the file path to the resources folder\n",
    "csv_file_path = os.path.join('Resources', 'mock_inventory.csv')\n",
    "inventory = load_inventory(csv_file_path)\n"
   ]
  },
  {
   "cell_type": "code",
   "execution_count": 4,
   "metadata": {},
   "outputs": [],
   "source": [
    "# create a function that will recognize when person is speaking\n",
    "def listen(audio_file_path):\n",
    "    print(f\"Received audio file path: {audio_file_path}\")\n",
    "    # Creating a Recognizer instance to recognize speech\n",
    "    recognizer = sr.Recognizer()\n",
    "    try:\n",
    "    # Use computer microphone as the source of the audio\n",
    "        with sr.AudioFile(audio_file_path) as source:\n",
    "        # this lets the user know that the assistant is listening\n",
    "        # print(\"Listening...\")\n",
    "        # captures the audio that comes in from mic\n",
    "            audio = recognizer.record(source)\n",
    "            # Uses Google's speech recognition to transcribe the audio to text\n",
    "            text = recognizer.recognize_google(audio)\n",
    "            print(f\"Recognized text: {text}\")\n",
    "            # prints the transcribed text\n",
    "            # print(f\"User said: {text}\")\n",
    "            # return the transcribed text\n",
    "            return text\n",
    "    except sr.UnknownValueError:\n",
    "            print(\"Error: Could not understand the audio\")\n",
    "            # how to handle where speech was not understood\n",
    "            # print(\"Sorry, I did not understand that.\")\n",
    "            # empty string shows a failure to understand\n",
    "            return \"Sorry, I did not understand that.\"\n",
    "    except sr.RequestError:\n",
    "            print(\"Error: Could not request results from Google Speech Recognition service.\")\n",
    "            return \"Sorry, the service is down.\"\n",
    "    except AssertionError as e:\n",
    "         print(f\"AssertionError:{e}\")\n",
    "         return \"Sorry the audio file is not valid.\"\n",
    "\n",
    "def speak(text):\n",
    "    if not text:\n",
    "         text = \"Sorry, I have nothing to say.\"\n",
    "    # Creates a gTTS (Google Text-to-Speech) instance with provided text\n",
    "    tts = gTTS(text=text, lang='en')\n",
    "    # Define the filename for the audio file\n",
    "    filename = \"response.mp3\"\n",
    "    # Save to mp3 file\n",
    "    tts.save(filename)\n",
    "    # play the mp3 file to speak the captured text\n",
    "    try:\n",
    "        playsound.playsound(filename)\n",
    "        print(f\"Playing sound: {filename}\")\n",
    "    except Exception as e:\n",
    "        print(f\"Error playing sound: {e}\")\n",
    "    return filename\n"
   ]
  },
  {
   "cell_type": "code",
   "execution_count": 5,
   "metadata": {},
   "outputs": [],
   "source": [
    "# create a function that will understand commands and reply with appropriate response\n",
    "# this will need to be updated as of 7/21, some responses are not relevant.\n",
    "def process_command(command):\n",
    "    print(f\"Processing command: {command}\")\n",
    "    tokens = word_tokenize(command.lower())\n",
    "    if \"find\" in tokens and \"product\" in tokens:\n",
    "        response = \"Sure, I can help you find a product. What are you looking for?\"\n",
    "    elif \"check\" in tokens and \"stock\" in tokens:\n",
    "        product_name = extract_product_name(tokens)\n",
    "        if product_name in inventory:\n",
    "            quantity = inventory[product_name][\"quantity\"]\n",
    "            response = f\"We have {quantity} {product_name}(s) in stock.\"\n",
    "        else:\n",
    "            response = f\"Sorry, we don't have {product_name} in our inventory.\"\n",
    "    elif \"information\" in tokens and \"paint\" in tokens:\n",
    "        response = \"I can provide information about our paints and finishes. What would you like to know?\"\n",
    "    else:\n",
    "        response = \"I'm sorry, I didn't understand that. Can you please repeat?\"\n",
    "    print(f\"Response: {response}\")\n",
    "    return response\n",
    "\n"
   ]
  },
  {
   "cell_type": "code",
   "execution_count": 6,
   "metadata": {},
   "outputs": [],
   "source": [
    "def extract_product_name(tokens):\n",
    "    # Iterate over each token in the command\n",
    "    for token in tokens:\n",
    "        # Check if the token matches any product name in inventory\n",
    "        for product in inventory.keys():\n",
    "            if token in product.lower():\n",
    "                # Return the product name if a match is found\n",
    "                return product\n",
    "            # Return an empty string if no match is found\n",
    "    return \"\""
   ]
  },
  {
   "cell_type": "code",
   "execution_count": 7,
   "metadata": {},
   "outputs": [],
   "source": [
    "def assistant(audio_file_path):\n",
    "    print(f\"Assistant received audio file path: {audio_file_path}\")\n",
    "    command = listen(audio_file_path)\n",
    "    response = process_command(command)\n",
    "    audio_response = speak(response)\n",
    "    return response, audio_response"
   ]
  },
  {
   "cell_type": "code",
   "execution_count": null,
   "metadata": {},
   "outputs": [
    {
     "name": "stdout",
     "output_type": "stream",
     "text": [
      "Running on local URL:  http://127.0.0.1:7861\n",
      "Running on public URL: https://944d86e546f5850f4d.gradio.live\n",
      "\n",
      "This share link expires in 72 hours. For free permanent hosting and GPU upgrades, run `gradio deploy` from Terminal to deploy to Spaces (https://huggingface.co/spaces)\n"
     ]
    },
    {
     "data": {
      "text/html": [
       "<div><iframe src=\"https://944d86e546f5850f4d.gradio.live\" width=\"100%\" height=\"500\" allow=\"autoplay; camera; microphone; clipboard-read; clipboard-write;\" frameborder=\"0\" allowfullscreen></iframe></div>"
      ],
      "text/plain": [
       "<IPython.core.display.HTML object>"
      ]
     },
     "metadata": {},
     "output_type": "display_data"
    },
    {
     "data": {
      "text/plain": []
     },
     "execution_count": 8,
     "metadata": {},
     "output_type": "execute_result"
    },
    {
     "name": "stdout",
     "output_type": "stream",
     "text": [
      "Assistant received audio file path: C:\\Users\\lovel\\AppData\\Local\\Temp\\gradio\\bf6cf805903fa56e83a7e2f88b20ffe87d7fa6e4\\audio.wav\n",
      "Received audio file path: C:\\Users\\lovel\\AppData\\Local\\Temp\\gradio\\bf6cf805903fa56e83a7e2f88b20ffe87d7fa6e4\\audio.wav\n",
      "Recognized text: how much is Regal interior Flats\n",
      "Processing command: how much is Regal interior Flats\n",
      "Response: I'm sorry, I didn't understand that. Can you please repeat?\n",
      "Playing sound: response.mp3\n",
      "Assistant received audio file path: C:\\Users\\lovel\\AppData\\Local\\Temp\\gradio\\cefed23980d6ef7ea28cea63562bea113aeacd5b\\audio.wav\n",
      "Received audio file path: C:\\Users\\lovel\\AppData\\Local\\Temp\\gradio\\cefed23980d6ef7ea28cea63562bea113aeacd5b\\audio.wav\n",
      "Recognized text: how much is the Regal interior mapping\n",
      "Processing command: how much is the Regal interior mapping\n",
      "Response: I'm sorry, I didn't understand that. Can you please repeat?\n"
     ]
    },
    {
     "name": "stderr",
     "output_type": "stream",
     "text": [
      "\n",
      "    Error 263 for command:\n",
      "        open response.mp3\n",
      "    The specified device is not open or is not recognized by MCI.\n",
      "\n",
      "    Error 263 for command:\n",
      "        close response.mp3\n",
      "    The specified device is not open or is not recognized by MCI.\n",
      "Failed to close the file: response.mp3\n"
     ]
    },
    {
     "name": "stdout",
     "output_type": "stream",
     "text": [
      "Error playing sound: \n",
      "    Error 263 for command:\n",
      "        open response.mp3\n",
      "    The specified device is not open or is not recognized by MCI.\n",
      "Assistant received audio file path: C:\\Users\\lovel\\AppData\\Local\\Temp\\gradio\\9c8afdd189b89aa07a248156ac8dc353ed1dfd1c\\audio.wav\n",
      "Received audio file path: C:\\Users\\lovel\\AppData\\Local\\Temp\\gradio\\9c8afdd189b89aa07a248156ac8dc353ed1dfd1c\\audio.wav\n",
      "Recognized text: do you have Regal interior flat\n",
      "Processing command: do you have Regal interior flat\n",
      "Response: I'm sorry, I didn't understand that. Can you please repeat?\n"
     ]
    },
    {
     "name": "stderr",
     "output_type": "stream",
     "text": [
      "\n",
      "    Error 263 for command:\n",
      "        open response.mp3\n",
      "    The specified device is not open or is not recognized by MCI.\n",
      "\n",
      "    Error 263 for command:\n",
      "        close response.mp3\n",
      "    The specified device is not open or is not recognized by MCI.\n",
      "Failed to close the file: response.mp3\n"
     ]
    },
    {
     "name": "stdout",
     "output_type": "stream",
     "text": [
      "Error playing sound: \n",
      "    Error 263 for command:\n",
      "        open response.mp3\n",
      "    The specified device is not open or is not recognized by MCI.\n"
     ]
    }
   ],
   "source": [
    "# Create Gradio interface\n",
    "iface = gr.Interface(\n",
    "    fn=assistant, \n",
    "    inputs=gr.Audio(\"microphone\", type=\"filepath\"),\n",
    "    outputs=[gr.Textbox(), gr.Audio(type=\"filepath\")]\n",
    ")\n",
    "\n",
    "iface.launch(share=True)"
   ]
  },
  {
   "cell_type": "code",
   "execution_count": 8,
   "metadata": {},
   "outputs": [],
   "source": [
    "# This block of code ensures that the following statements are only executed \n",
    "# when this script is run directly, and not when it is imported as a module in another script.\n",
    "#if __name__ == \"__main__\":\n",
    "    # This creates an infinite loop to continuously listen for and process commands.\n",
    "    #while True:\n",
    "        # Call the listen() function to capture and transcribe spoken commands from the user.\n",
    "        # The transcribed text is stored in the variable 'command'.\n",
    "        #command = listen()\n",
    "        # Check if a command was successfully transcribed (i.e., if 'command' is not empty).\n",
    "        #if command:\n",
    "            # If a valid command was captured, call the process_command() function to handle\n",
    "            # the command and provide the appropriate response\n",
    "            #process_command(command)\n"
   ]
  }
 ],
 "metadata": {
  "kernelspec": {
   "display_name": "base",
   "language": "python",
   "name": "python3"
  },
  "language_info": {
   "codemirror_mode": {
    "name": "ipython",
    "version": 3
   },
   "file_extension": ".py",
   "mimetype": "text/x-python",
   "name": "python",
   "nbconvert_exporter": "python",
   "pygments_lexer": "ipython3",
   "version": "3.11.5"
  }
 },
 "nbformat": 4,
 "nbformat_minor": 4
}
