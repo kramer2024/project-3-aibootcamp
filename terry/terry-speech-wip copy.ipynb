{
 "cells": [
  {
   "cell_type": "code",
   "execution_count": 1,
   "metadata": {},
   "outputs": [],
   "source": [
    "import speech_recognition as sr\n",
    "from gtts import gTTS\n",
    "import playsound\n",
    "import nltk\n",
    "from nltk.tokenize import word_tokenize\n",
    "import csv\n",
    "import os"
   ]
  },
  {
   "cell_type": "code",
   "execution_count": 2,
   "metadata": {},
   "outputs": [],
   "source": [
    "# Load inventory from CSV\n",
    "def load_inventory(file_path):\n",
    "    # Initialize an empty dictionary to hold data\n",
    "    inventory = {}\n",
    "    # Open CSV file in read mode (r)\n",
    "    with open(file_path, mode='r') as file:\n",
    "        reader = csv.DictReader(file)\n",
    "        # Iterate of each row in the CSV file\n",
    "        for row in reader:\n",
    "            # Extract the product name from the current row\n",
    "            product = row[\"product\"]\n",
    "            # Add the product to the inventory dictionary with its qty and price\n",
    "            inventory[product] = {\"quantity\": int(row[\"quantity\"]), \"price\": float(row[\"price\"]),  \"volume\": str(row[\"volume\"])}\n",
    "            # Return populated inventory dictionary\n",
    "    return inventory\n",
    "\n",
    "# Update the file path to the resources folder\n",
    "csv_file_path = os.path.join('Resources', 'final_inventory.csv')\n",
    "inventory = load_inventory(csv_file_path)\n"
   ]
  },
  {
   "cell_type": "code",
   "execution_count": 3,
   "metadata": {},
   "outputs": [],
   "source": [
    "import pyttsx3"
   ]
  },
  {
   "cell_type": "code",
   "execution_count": 4,
   "metadata": {},
   "outputs": [],
   "source": [
    "engine = pyttsx3.init()"
   ]
  },
  {
   "cell_type": "code",
   "execution_count": 5,
   "metadata": {},
   "outputs": [],
   "source": [
    "def play_initial_greeting():\n",
    "    voices = engine.getProperty('voices')\n",
    "    engine.setProperty('voice', voices[1].id) \n",
    "    # rate = engine.getProperty('rate')\n",
    "    # engine.setProperty('rate', rate+75)\n",
    "    greeting_text = \"MEOW, MEOW... I am Paxil Voice Assistant Kitty, I am here to help you find information.\"\n",
    "    engine.say(greeting_text)\n",
    "    engine.runAndWait()"
   ]
  },
  {
   "cell_type": "code",
   "execution_count": 6,
   "metadata": {},
   "outputs": [],
   "source": [
    "# create a function that will recognize when person is speaking\n",
    "def listen():\n",
    "    # Creating a Recognizer instance to recognize speech\n",
    "    recognizer = sr.Recognizer()\n",
    "    # Use computer microphone as the source of the audio\n",
    "    with sr.Microphone() as source:\n",
    "        # this lets the user know that the assistant is listening\n",
    "        print(\"Listening...\")\n",
    "        # captures the audio that comes in from mic\n",
    "        audio = recognizer.listen(source)\n",
    "        try:\n",
    "            # Uses Google's speech recognition to transcribe the audio to text\n",
    "            text = recognizer.recognize_google(audio)\n",
    "            # prints the transcribed text\n",
    "            print(f\"User said: {text}\")\n",
    "            # return the transcribed text\n",
    "            return text\n",
    "        except sr.UnknownValueError:\n",
    "            # how to handle where speech was not understood\n",
    "            print(\"Sorry, I did not understand that.\")\n",
    "            # empty string shows a failure to understand\n",
    "            return \"\"\n",
    "        except sr.RequestError:\n",
    "            print(\"Sorry, the service is down.\")\n",
    "            return \"\"\n",
    "\n",
    "def speak(text):\n",
    "    # Creates a gTTS (Google Text-to-Speech) instance with provided text\n",
    "    tts = gTTS(text=text, lang='en')\n",
    "    # Define the filename for the audio file\n",
    "    filename = \"response.mp3\"\n",
    "    # Save to mp3 file\n",
    "    tts.save(filename)\n",
    "    # play the mp3 file to speak the captured text\n",
    "    playsound.playsound(filename)\n"
   ]
  },
  {
   "cell_type": "code",
   "execution_count": 7,
   "metadata": {},
   "outputs": [],
   "source": [
    "# create a function that will understand commands and reply with appropriate response\n",
    "# this will need to be updated as of 7/21, some responses are not relevant.\n",
    "def process_command(command):\n",
    "    # tokenize the command into single words and convert them to lowercase\n",
    "    tokens = word_tokenize(command.lower())\n",
    "    \n",
    "    if \"find\" in tokens and \"product\" in tokens:\n",
    "        # If the command has both \"find\" and \"product\", respond with:\n",
    "        speak(\"Sure, I can help you find a product. What are you looking for?\")\n",
    "    elif \"many\" in tokens or \"inventory\" in tokens:\n",
    "        # If the command has both \"check and \"stock, attempt to find the product\n",
    "        product_name = extract_product_name(tokens)\n",
    "        if product_name in inventory:\n",
    "            # If the product is found in the inventory, respond with the quantity in stock\n",
    "            quantity = inventory[product_name][\"quantity\"]\n",
    "            speak(f\"We have {quantity} {product_name}(s) in stock.\")\n",
    "        else:\n",
    "            # If the product is not found in the inventory, respond with:\n",
    "            speak(f\"Sorry, we don't have {product_name} in our inventory.\")\n",
    "    elif \"price\" in tokens or \"cost\" in tokens:\n",
    "        # If the command has both \"check and \"stock, attempt to find the product\n",
    "        product_name = extract_product_name(tokens)\n",
    "        if product_name in inventory:\n",
    "            # If the product is found in the inventory, respond with the quantity in stock\n",
    "            price = inventory[product_name][\"price\"]\n",
    "            speak(f\"The cost for {product_name} is {price}.\")\n",
    "        else:\n",
    "            # If the product is not found in the inventory, respond with:\n",
    "            speak(f\"Sorry, we don't have {product_name} in our inventory.\")\n",
    "    elif \"information\" in tokens and \"paint\" in tokens:\n",
    "        # If the command contains both :information\" and \"paint\", ask what specific information is needed\n",
    "        speak(\"I can provide information about our paints and finishes. What would you like to know?\")\n",
    "    elif \"paint\" in tokens and \"colors\" in tokens:\n",
    "        # this will be removed\n",
    "        speak(\"We have a wide variety of paint colors. Are you looking for interior or exterior paints?\")\n",
    "    else:\n",
    "        # If the command does not match anything...respond with:\n",
    "        speak(\"I'm sorry, I didn't understand that. Can you please repeat?\")\n",
    "\n",
    "def extract_product_name(tokens):\n",
    "    # Iterate over each token in the command\n",
    "    for token in tokens:\n",
    "        # Check if the token matches any product name in inventory\n",
    "        for product in inventory.keys():\n",
    "            if token in product.lower():\n",
    "                # Return the product name if a match is found\n",
    "                return product\n",
    "            # Return an empty string if no match is found\n",
    "    return \"\""
   ]
  },
  {
   "cell_type": "code",
   "execution_count": 8,
   "metadata": {},
   "outputs": [
    {
     "name": "stdout",
     "output_type": "stream",
     "text": [
      "Listening...\n",
      "User said: what inventory would looks clean\n",
      "Listening...\n"
     ]
    },
    {
     "ename": "KeyboardInterrupt",
     "evalue": "",
     "output_type": "error",
     "traceback": [
      "\u001b[1;31m---------------------------------------------------------------------------\u001b[0m",
      "\u001b[1;31mKeyboardInterrupt\u001b[0m                         Traceback (most recent call last)",
      "Cell \u001b[1;32mIn[8], line 9\u001b[0m\n\u001b[0;32m      5\u001b[0m \u001b[38;5;66;03m# This creates an infinite loop to continuously listen for and process commands.\u001b[39;00m\n\u001b[0;32m      6\u001b[0m \u001b[38;5;28;01mwhile\u001b[39;00m \u001b[38;5;28;01mTrue\u001b[39;00m:\n\u001b[0;32m      7\u001b[0m     \u001b[38;5;66;03m# Call the listen() function to capture and transcribe spoken commands from the user.\u001b[39;00m\n\u001b[0;32m      8\u001b[0m     \u001b[38;5;66;03m# The transcribed text is stored in the variable 'command'.\u001b[39;00m\n\u001b[1;32m----> 9\u001b[0m     command \u001b[38;5;241m=\u001b[39m \u001b[43mlisten\u001b[49m\u001b[43m(\u001b[49m\u001b[43m)\u001b[49m\n\u001b[0;32m     10\u001b[0m     \u001b[38;5;66;03m# Check if a command was successfully transcribed (i.e., if 'command' is not empty).\u001b[39;00m\n\u001b[0;32m     11\u001b[0m     \u001b[38;5;28;01mif\u001b[39;00m command:\n\u001b[0;32m     12\u001b[0m         \u001b[38;5;66;03m# If a valid command was captured, call the process_command() function to handle\u001b[39;00m\n\u001b[0;32m     13\u001b[0m         \u001b[38;5;66;03m# the command and provide the appropriate response\u001b[39;00m\n",
      "Cell \u001b[1;32mIn[6], line 10\u001b[0m, in \u001b[0;36mlisten\u001b[1;34m()\u001b[0m\n\u001b[0;32m      8\u001b[0m \u001b[38;5;28mprint\u001b[39m(\u001b[38;5;124m\"\u001b[39m\u001b[38;5;124mListening...\u001b[39m\u001b[38;5;124m\"\u001b[39m)\n\u001b[0;32m      9\u001b[0m \u001b[38;5;66;03m# captures the audio that comes in from mic\u001b[39;00m\n\u001b[1;32m---> 10\u001b[0m audio \u001b[38;5;241m=\u001b[39m \u001b[43mrecognizer\u001b[49m\u001b[38;5;241;43m.\u001b[39;49m\u001b[43mlisten\u001b[49m\u001b[43m(\u001b[49m\u001b[43msource\u001b[49m\u001b[43m)\u001b[49m\n\u001b[0;32m     11\u001b[0m \u001b[38;5;28;01mtry\u001b[39;00m:\n\u001b[0;32m     12\u001b[0m     \u001b[38;5;66;03m# Uses Google's speech recognition to transcribe the audio to text\u001b[39;00m\n\u001b[0;32m     13\u001b[0m     text \u001b[38;5;241m=\u001b[39m recognizer\u001b[38;5;241m.\u001b[39mrecognize_google(audio)\n",
      "File \u001b[1;32mc:\\Users\\thw42\\anaconda3\\envs\\test\\Lib\\site-packages\\speech_recognition\\__init__.py:491\u001b[0m, in \u001b[0;36mRecognizer.listen\u001b[1;34m(self, source, timeout, phrase_time_limit, snowboy_configuration)\u001b[0m\n\u001b[0;32m    488\u001b[0m \u001b[38;5;28;01mif\u001b[39;00m timeout \u001b[38;5;129;01mand\u001b[39;00m elapsed_time \u001b[38;5;241m>\u001b[39m timeout:\n\u001b[0;32m    489\u001b[0m     \u001b[38;5;28;01mraise\u001b[39;00m WaitTimeoutError(\u001b[38;5;124m\"\u001b[39m\u001b[38;5;124mlistening timed out while waiting for phrase to start\u001b[39m\u001b[38;5;124m\"\u001b[39m)\n\u001b[1;32m--> 491\u001b[0m buffer \u001b[38;5;241m=\u001b[39m \u001b[43msource\u001b[49m\u001b[38;5;241;43m.\u001b[39;49m\u001b[43mstream\u001b[49m\u001b[38;5;241;43m.\u001b[39;49m\u001b[43mread\u001b[49m\u001b[43m(\u001b[49m\u001b[43msource\u001b[49m\u001b[38;5;241;43m.\u001b[39;49m\u001b[43mCHUNK\u001b[49m\u001b[43m)\u001b[49m\n\u001b[0;32m    492\u001b[0m \u001b[38;5;28;01mif\u001b[39;00m \u001b[38;5;28mlen\u001b[39m(buffer) \u001b[38;5;241m==\u001b[39m \u001b[38;5;241m0\u001b[39m: \u001b[38;5;28;01mbreak\u001b[39;00m  \u001b[38;5;66;03m# reached end of the stream\u001b[39;00m\n\u001b[0;32m    493\u001b[0m frames\u001b[38;5;241m.\u001b[39mappend(buffer)\n",
      "File \u001b[1;32mc:\\Users\\thw42\\anaconda3\\envs\\test\\Lib\\site-packages\\speech_recognition\\__init__.py:199\u001b[0m, in \u001b[0;36mMicrophone.MicrophoneStream.read\u001b[1;34m(self, size)\u001b[0m\n\u001b[0;32m    198\u001b[0m \u001b[38;5;28;01mdef\u001b[39;00m \u001b[38;5;21mread\u001b[39m(\u001b[38;5;28mself\u001b[39m, size):\n\u001b[1;32m--> 199\u001b[0m     \u001b[38;5;28;01mreturn\u001b[39;00m \u001b[38;5;28;43mself\u001b[39;49m\u001b[38;5;241;43m.\u001b[39;49m\u001b[43mpyaudio_stream\u001b[49m\u001b[38;5;241;43m.\u001b[39;49m\u001b[43mread\u001b[49m\u001b[43m(\u001b[49m\u001b[43msize\u001b[49m\u001b[43m,\u001b[49m\u001b[43m \u001b[49m\u001b[43mexception_on_overflow\u001b[49m\u001b[38;5;241;43m=\u001b[39;49m\u001b[38;5;28;43;01mFalse\u001b[39;49;00m\u001b[43m)\u001b[49m\n",
      "File \u001b[1;32mc:\\Users\\thw42\\anaconda3\\envs\\test\\Lib\\site-packages\\pyaudio\\__init__.py:570\u001b[0m, in \u001b[0;36mPyAudio.Stream.read\u001b[1;34m(self, num_frames, exception_on_overflow)\u001b[0m\n\u001b[0;32m    567\u001b[0m \u001b[38;5;28;01mif\u001b[39;00m \u001b[38;5;129;01mnot\u001b[39;00m \u001b[38;5;28mself\u001b[39m\u001b[38;5;241m.\u001b[39m_is_input:\n\u001b[0;32m    568\u001b[0m     \u001b[38;5;28;01mraise\u001b[39;00m \u001b[38;5;167;01mIOError\u001b[39;00m(\u001b[38;5;124m\"\u001b[39m\u001b[38;5;124mNot input stream\u001b[39m\u001b[38;5;124m\"\u001b[39m,\n\u001b[0;32m    569\u001b[0m                   paCanNotReadFromAnOutputOnlyStream)\n\u001b[1;32m--> 570\u001b[0m \u001b[38;5;28;01mreturn\u001b[39;00m \u001b[43mpa\u001b[49m\u001b[38;5;241;43m.\u001b[39;49m\u001b[43mread_stream\u001b[49m\u001b[43m(\u001b[49m\u001b[38;5;28;43mself\u001b[39;49m\u001b[38;5;241;43m.\u001b[39;49m\u001b[43m_stream\u001b[49m\u001b[43m,\u001b[49m\u001b[43m \u001b[49m\u001b[43mnum_frames\u001b[49m\u001b[43m,\u001b[49m\n\u001b[0;32m    571\u001b[0m \u001b[43m                      \u001b[49m\u001b[43mexception_on_overflow\u001b[49m\u001b[43m)\u001b[49m\n",
      "\u001b[1;31mKeyboardInterrupt\u001b[0m: "
     ]
    }
   ],
   "source": [
    "# This block of code ensures that the following statements are only executed \n",
    "# when this script is run directly, and not when it is imported as a module in another script.\n",
    "if __name__ == \"__main__\":\n",
    "    play_initial_greeting()\n",
    "    # This creates an infinite loop to continuously listen for and process commands.\n",
    "    while True:\n",
    "        # Call the listen() function to capture and transcribe spoken commands from the user.\n",
    "        # The transcribed text is stored in the variable 'command'.\n",
    "        command = listen()\n",
    "        # Check if a command was successfully transcribed (i.e., if 'command' is not empty).\n",
    "        if command:\n",
    "            # If a valid command was captured, call the process_command() function to handle\n",
    "            # the command and provide the appropriate response\n",
    "            process_command(command)"
   ]
  }
 ],
 "metadata": {
  "kernelspec": {
   "display_name": "test",
   "language": "python",
   "name": "python3"
  },
  "language_info": {
   "codemirror_mode": {
    "name": "ipython",
    "version": 3
   },
   "file_extension": ".py",
   "mimetype": "text/x-python",
   "name": "python",
   "nbconvert_exporter": "python",
   "pygments_lexer": "ipython3",
   "version": "3.12.4"
  }
 },
 "nbformat": 4,
 "nbformat_minor": 2
}
